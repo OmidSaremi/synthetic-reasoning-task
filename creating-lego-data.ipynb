{
 "cells": [
  {
   "cell_type": "code",
   "execution_count": 1,
   "metadata": {},
   "outputs": [],
   "source": [
    "import os\n",
    "import math\n",
    "import string\n",
    "import random\n",
    "import numpy as np\n",
    "from collections import defaultdict, Counter\n",
    "import pandas as pd\n",
    "from IPython.display import Markdown, display"
   ]
  },
  {
   "cell_type": "code",
   "execution_count": 2,
   "metadata": {},
   "outputs": [],
   "source": [
    "np.random.seed(1234)"
   ]
  },
  {
   "cell_type": "code",
   "execution_count": 3,
   "metadata": {},
   "outputs": [],
   "source": [
    "def printbold(string):\n",
    "    display(Markdown('{}{}{}'.format('**', string, '**')))"
   ]
  },
  {
   "cell_type": "code",
   "execution_count": 4,
   "metadata": {},
   "outputs": [],
   "source": [
    "def sign(x):\n",
    "    if x < 0:\n",
    "        return '-'\n",
    "    elif x > 0:\n",
    "        return '+'\n",
    "    else:\n",
    "        return 'none'"
   ]
  },
  {
   "cell_type": "code",
   "execution_count": 5,
   "metadata": {},
   "outputs": [],
   "source": [
    "class Setup(object):\n",
    "    def __init__(self, base_dir='/mnt/task_runtime/'):\n",
    "        self.base_dir = base_dir \n",
    "        \n",
    "        data_folder_path, results_folder_path = os.path.join(self.base_dir, 'lego-data'), os.path.join(self.base_dir, 'lego-results')\n",
    "        for folder_path in [data_folder_path, results_folder_path]:\n",
    "            if not os.path.exists(folder_path):\n",
    "                os.makedirs(os.path.join(folder_path))\n",
    "    \n",
    "    def generate_datapoint(self, length):\n",
    "        alphabet = list(string.ascii_lowercase)\n",
    "        \n",
    "        symbols = random.sample(alphabet, length)\n",
    "        values = 2 * np.random.randint(2, size=(length, )) - 1\n",
    "        \n",
    "        pairs = list(zip(symbols, values))\n",
    "        symbol_value_map = dict(pairs)\n",
    "            \n",
    "        eqs = ['{}={}'.format(symbols[0], values[0])]\n",
    "        for i in range(1, length):\n",
    "            eqs.append('{}={}{}'.format(symbols[i], sign(values[i]/values[i-1]), symbols[i-1]))\n",
    "        np.random.shuffle(eqs)\n",
    "        input_eqs = '; '.join(eqs)\n",
    "        \n",
    "        input_symbols_in_order = []\n",
    "        for eq in eqs:\n",
    "            input_symbols_in_order.append(eq.split('=')[0])\n",
    "        \n",
    "        input_order_labels = []\n",
    "        for symbol in input_symbols_in_order: \n",
    "            input_order_labels.append('{}={}'.format(symbol, symbol_value_map[symbol]))\n",
    "        \n",
    "        resolution_order_labels = []\n",
    "        for pair in pairs:\n",
    "            resolution_order_labels.append('='.join([pair[0], str(pair[1])]))  \n",
    "        return input_eqs, ';'.join(resolution_order_labels), ';'.join(input_order_labels), ';'.join(input_order_labels)+';aux: {}'.format(','.join(symbols))\n",
    "    \n",
    "    def train_test_split(self, df, frac=0.8):\n",
    "        split_point = int(math.floor(frac * len(df)))\n",
    "        df = df.sample(frac=1.)\n",
    "        train_df, test_df = df[:split_point], df[split_point:]\n",
    "        return train_df, test_df\n",
    "        \n",
    "    def save(self, dataset, path):\n",
    "        dataset_str = '\\n'.join(dataset)\n",
    "        with open(path, 'w') as f:\n",
    "            f.write(dataset_str)\n",
    "    def get_path(self, obj_type, fname):\n",
    "        if obj_type not in ['lego-data', 'lego-results']:\n",
    "            raise ValueError('invalid object type!')\n",
    "        return os.path.join(self.base_dir, obj_type, fname)\n",
    "            \n",
    "    def generate_dataset(self, train_seq_length, test_seq_length, ood_test_seq_length, persist=False, num_train_samples=8000,  num_test_samples=500, num_ood_test_samples=500, train_fname='lego-train.txt', test_fname='lego-test.txt', ood_test_fname='lego-ood-test.txt'):\n",
    "        dataset, ood_test_dataset = set([]), set([])\n",
    "        \n",
    "        for _ in range(num_train_samples + num_test_samples):\n",
    "            dataset.add(self.generate_datapoint(train_seq_length)) \n",
    "        \n",
    "        for _ in range(num_ood_test_samples):\n",
    "            ood_test_dataset.add(self.generate_datapoint(ood_test_seq_length))  \n",
    "            \n",
    "        df, ood_test_df = pd.DataFrame(dataset, columns=['input', 'resolution-order-labels', 'input-order-labels', 'labels-with-aux']), pd.DataFrame(ood_test_dataset, columns=['input', 'resolution-order-labels', 'input-order-labels', 'labels-with-aux'])  \n",
    "        train_df, test_df = self.train_test_split(df)\n",
    "        \n",
    "        if persist:\n",
    "            train_df.to_csv(self.get_path('lego-data', train_fname))\n",
    "            test_df.to_csv(self.get_path('lego-data', test_fname))\n",
    "            ood_test_df.to_csv(self.get_path('lego-data', ood_test_fname))\n",
    "            \n",
    "        return train_df, test_df, ood_test_df   "
   ]
  },
  {
   "cell_type": "code",
   "execution_count": 6,
   "metadata": {},
   "outputs": [],
   "source": [
    "setup = Setup()"
   ]
  },
  {
   "cell_type": "code",
   "execution_count": 7,
   "metadata": {},
   "outputs": [
    {
     "data": {
      "text/plain": [
       "('i=-t; t=-g; g=+l; l=1; f=-i',\n",
       " 'l=1;g=1;t=-1;i=1;f=-1',\n",
       " 'i=1;t=-1;g=1;l=1;f=-1',\n",
       " 'i=1;t=-1;g=1;l=1;f=-1;aux: l,g,t,i,f')"
      ]
     },
     "execution_count": 7,
     "metadata": {},
     "output_type": "execute_result"
    }
   ],
   "source": [
    "setup.generate_datapoint(5)"
   ]
  },
  {
   "cell_type": "code",
   "execution_count": 8,
   "metadata": {},
   "outputs": [],
   "source": [
    "train_df, test_df, ood_test_df = setup.generate_dataset(6, 6, 12, persist=True)"
   ]
  },
  {
   "cell_type": "code",
   "execution_count": 9,
   "metadata": {},
   "outputs": [
    {
     "data": {
      "text/html": [
       "<div>\n",
       "<style scoped>\n",
       "    .dataframe tbody tr th:only-of-type {\n",
       "        vertical-align: middle;\n",
       "    }\n",
       "\n",
       "    .dataframe tbody tr th {\n",
       "        vertical-align: top;\n",
       "    }\n",
       "\n",
       "    .dataframe thead th {\n",
       "        text-align: right;\n",
       "    }\n",
       "</style>\n",
       "<table border=\"1\" class=\"dataframe\">\n",
       "  <thead>\n",
       "    <tr style=\"text-align: right;\">\n",
       "      <th></th>\n",
       "      <th>input</th>\n",
       "      <th>resolution-order-labels</th>\n",
       "      <th>input-order-labels</th>\n",
       "      <th>labels-with-aux</th>\n",
       "    </tr>\n",
       "  </thead>\n",
       "  <tbody>\n",
       "    <tr>\n",
       "      <th>5642</th>\n",
       "      <td>t=-q; r=+t; a=+p; q=+s; p=-r; s=1</td>\n",
       "      <td>s=1;q=1;t=-1;r=-1;p=1;a=1</td>\n",
       "      <td>t=-1;r=-1;a=1;q=1;p=1;s=1</td>\n",
       "      <td>t=-1;r=-1;a=1;q=1;p=1;s=1;aux: s,q,t,r,p,a</td>\n",
       "    </tr>\n",
       "    <tr>\n",
       "      <th>2515</th>\n",
       "      <td>d=-v; r=+d; s=+h; v=+s; w=1; h=-w</td>\n",
       "      <td>w=1;h=-1;s=-1;v=-1;d=1;r=1</td>\n",
       "      <td>d=1;r=1;s=-1;v=-1;w=1;h=-1</td>\n",
       "      <td>d=1;r=1;s=-1;v=-1;w=1;h=-1;aux: w,h,s,v,d,r</td>\n",
       "    </tr>\n",
       "    <tr>\n",
       "      <th>1815</th>\n",
       "      <td>o=-k; q=-o; d=-1; c=+q; m=-d; k=-m</td>\n",
       "      <td>d=-1;m=1;k=-1;o=1;q=-1;c=-1</td>\n",
       "      <td>o=1;q=-1;d=-1;c=-1;m=1;k=-1</td>\n",
       "      <td>o=1;q=-1;d=-1;c=-1;m=1;k=-1;aux: d,m,k,o,q,c</td>\n",
       "    </tr>\n",
       "    <tr>\n",
       "      <th>3346</th>\n",
       "      <td>h=-g; g=+p; r=+c; c=-1; p=+l; l=+r</td>\n",
       "      <td>c=-1;r=-1;l=-1;p=-1;g=-1;h=1</td>\n",
       "      <td>h=1;g=-1;r=-1;c=-1;p=-1;l=-1</td>\n",
       "      <td>h=1;g=-1;r=-1;c=-1;p=-1;l=-1;aux: c,r,l,p,g,h</td>\n",
       "    </tr>\n",
       "    <tr>\n",
       "      <th>4744</th>\n",
       "      <td>l=+w; j=1; w=-f; f=+k; k=+p; p=-j</td>\n",
       "      <td>j=1;p=-1;k=-1;f=-1;w=1;l=1</td>\n",
       "      <td>l=1;j=1;w=1;f=-1;k=-1;p=-1</td>\n",
       "      <td>l=1;j=1;w=1;f=-1;k=-1;p=-1;aux: j,p,k,f,w,l</td>\n",
       "    </tr>\n",
       "  </tbody>\n",
       "</table>\n",
       "</div>"
      ],
      "text/plain": [
       "                                   input       resolution-order-labels  \\\n",
       "5642   t=-q; r=+t; a=+p; q=+s; p=-r; s=1     s=1;q=1;t=-1;r=-1;p=1;a=1   \n",
       "2515   d=-v; r=+d; s=+h; v=+s; w=1; h=-w    w=1;h=-1;s=-1;v=-1;d=1;r=1   \n",
       "1815  o=-k; q=-o; d=-1; c=+q; m=-d; k=-m   d=-1;m=1;k=-1;o=1;q=-1;c=-1   \n",
       "3346  h=-g; g=+p; r=+c; c=-1; p=+l; l=+r  c=-1;r=-1;l=-1;p=-1;g=-1;h=1   \n",
       "4744   l=+w; j=1; w=-f; f=+k; k=+p; p=-j    j=1;p=-1;k=-1;f=-1;w=1;l=1   \n",
       "\n",
       "                input-order-labels  \\\n",
       "5642     t=-1;r=-1;a=1;q=1;p=1;s=1   \n",
       "2515    d=1;r=1;s=-1;v=-1;w=1;h=-1   \n",
       "1815   o=1;q=-1;d=-1;c=-1;m=1;k=-1   \n",
       "3346  h=1;g=-1;r=-1;c=-1;p=-1;l=-1   \n",
       "4744    l=1;j=1;w=1;f=-1;k=-1;p=-1   \n",
       "\n",
       "                                    labels-with-aux  \n",
       "5642     t=-1;r=-1;a=1;q=1;p=1;s=1;aux: s,q,t,r,p,a  \n",
       "2515    d=1;r=1;s=-1;v=-1;w=1;h=-1;aux: w,h,s,v,d,r  \n",
       "1815   o=1;q=-1;d=-1;c=-1;m=1;k=-1;aux: d,m,k,o,q,c  \n",
       "3346  h=1;g=-1;r=-1;c=-1;p=-1;l=-1;aux: c,r,l,p,g,h  \n",
       "4744    l=1;j=1;w=1;f=-1;k=-1;p=-1;aux: j,p,k,f,w,l  "
      ]
     },
     "execution_count": 9,
     "metadata": {},
     "output_type": "execute_result"
    }
   ],
   "source": [
    "train_df.head()"
   ]
  },
  {
   "cell_type": "code",
   "execution_count": 10,
   "metadata": {},
   "outputs": [
    {
     "data": {
      "text/html": [
       "<div>\n",
       "<style scoped>\n",
       "    .dataframe tbody tr th:only-of-type {\n",
       "        vertical-align: middle;\n",
       "    }\n",
       "\n",
       "    .dataframe tbody tr th {\n",
       "        vertical-align: top;\n",
       "    }\n",
       "\n",
       "    .dataframe thead th {\n",
       "        text-align: right;\n",
       "    }\n",
       "</style>\n",
       "<table border=\"1\" class=\"dataframe\">\n",
       "  <thead>\n",
       "    <tr style=\"text-align: right;\">\n",
       "      <th></th>\n",
       "      <th>input</th>\n",
       "      <th>resolution-order-labels</th>\n",
       "      <th>input-order-labels</th>\n",
       "      <th>labels-with-aux</th>\n",
       "    </tr>\n",
       "  </thead>\n",
       "  <tbody>\n",
       "    <tr>\n",
       "      <th>7340</th>\n",
       "      <td>n=-1; o=-n; t=+o; e=-i; i=-m; m=+t</td>\n",
       "      <td>n=-1;o=1;t=1;m=1;i=-1;e=1</td>\n",
       "      <td>n=-1;o=1;t=1;e=1;i=-1;m=1</td>\n",
       "      <td>n=-1;o=1;t=1;e=1;i=-1;m=1;aux: n,o,t,m,i,e</td>\n",
       "    </tr>\n",
       "    <tr>\n",
       "      <th>5631</th>\n",
       "      <td>l=-j; c=+y; q=+c; y=-1; j=+q; d=-l</td>\n",
       "      <td>y=-1;c=-1;q=-1;j=-1;l=1;d=-1</td>\n",
       "      <td>l=1;c=-1;q=-1;y=-1;j=-1;d=-1</td>\n",
       "      <td>l=1;c=-1;q=-1;y=-1;j=-1;d=-1;aux: y,c,q,j,l,d</td>\n",
       "    </tr>\n",
       "    <tr>\n",
       "      <th>2093</th>\n",
       "      <td>m=-z; p=+h; z=-1; e=-g; h=+e; g=+m</td>\n",
       "      <td>z=-1;m=1;g=1;e=-1;h=-1;p=-1</td>\n",
       "      <td>m=1;p=-1;z=-1;e=-1;h=-1;g=1</td>\n",
       "      <td>m=1;p=-1;z=-1;e=-1;h=-1;g=1;aux: z,m,g,e,h,p</td>\n",
       "    </tr>\n",
       "    <tr>\n",
       "      <th>5872</th>\n",
       "      <td>s=+r; r=-g; h=+n; l=-h; g=-l; n=-1</td>\n",
       "      <td>n=-1;h=-1;l=1;g=-1;r=1;s=1</td>\n",
       "      <td>s=1;r=1;h=-1;l=1;g=-1;n=-1</td>\n",
       "      <td>s=1;r=1;h=-1;l=1;g=-1;n=-1;aux: n,h,l,g,r,s</td>\n",
       "    </tr>\n",
       "    <tr>\n",
       "      <th>7522</th>\n",
       "      <td>a=+k; b=-a; s=+l; k=+s; p=+b; l=-1</td>\n",
       "      <td>l=-1;s=-1;k=-1;a=-1;b=1;p=1</td>\n",
       "      <td>a=-1;b=1;s=-1;k=-1;p=1;l=-1</td>\n",
       "      <td>a=-1;b=1;s=-1;k=-1;p=1;l=-1;aux: l,s,k,a,b,p</td>\n",
       "    </tr>\n",
       "  </tbody>\n",
       "</table>\n",
       "</div>"
      ],
      "text/plain": [
       "                                   input       resolution-order-labels  \\\n",
       "7340  n=-1; o=-n; t=+o; e=-i; i=-m; m=+t     n=-1;o=1;t=1;m=1;i=-1;e=1   \n",
       "5631  l=-j; c=+y; q=+c; y=-1; j=+q; d=-l  y=-1;c=-1;q=-1;j=-1;l=1;d=-1   \n",
       "2093  m=-z; p=+h; z=-1; e=-g; h=+e; g=+m   z=-1;m=1;g=1;e=-1;h=-1;p=-1   \n",
       "5872  s=+r; r=-g; h=+n; l=-h; g=-l; n=-1    n=-1;h=-1;l=1;g=-1;r=1;s=1   \n",
       "7522  a=+k; b=-a; s=+l; k=+s; p=+b; l=-1   l=-1;s=-1;k=-1;a=-1;b=1;p=1   \n",
       "\n",
       "                input-order-labels  \\\n",
       "7340     n=-1;o=1;t=1;e=1;i=-1;m=1   \n",
       "5631  l=1;c=-1;q=-1;y=-1;j=-1;d=-1   \n",
       "2093   m=1;p=-1;z=-1;e=-1;h=-1;g=1   \n",
       "5872    s=1;r=1;h=-1;l=1;g=-1;n=-1   \n",
       "7522   a=-1;b=1;s=-1;k=-1;p=1;l=-1   \n",
       "\n",
       "                                    labels-with-aux  \n",
       "7340     n=-1;o=1;t=1;e=1;i=-1;m=1;aux: n,o,t,m,i,e  \n",
       "5631  l=1;c=-1;q=-1;y=-1;j=-1;d=-1;aux: y,c,q,j,l,d  \n",
       "2093   m=1;p=-1;z=-1;e=-1;h=-1;g=1;aux: z,m,g,e,h,p  \n",
       "5872    s=1;r=1;h=-1;l=1;g=-1;n=-1;aux: n,h,l,g,r,s  \n",
       "7522   a=-1;b=1;s=-1;k=-1;p=1;l=-1;aux: l,s,k,a,b,p  "
      ]
     },
     "execution_count": 10,
     "metadata": {},
     "output_type": "execute_result"
    }
   ],
   "source": [
    "test_df.head()"
   ]
  },
  {
   "cell_type": "code",
   "execution_count": 11,
   "metadata": {},
   "outputs": [
    {
     "data": {
      "text/html": [
       "<div>\n",
       "<style scoped>\n",
       "    .dataframe tbody tr th:only-of-type {\n",
       "        vertical-align: middle;\n",
       "    }\n",
       "\n",
       "    .dataframe tbody tr th {\n",
       "        vertical-align: top;\n",
       "    }\n",
       "\n",
       "    .dataframe thead th {\n",
       "        text-align: right;\n",
       "    }\n",
       "</style>\n",
       "<table border=\"1\" class=\"dataframe\">\n",
       "  <thead>\n",
       "    <tr style=\"text-align: right;\">\n",
       "      <th></th>\n",
       "      <th>input</th>\n",
       "      <th>resolution-order-labels</th>\n",
       "      <th>input-order-labels</th>\n",
       "      <th>labels-with-aux</th>\n",
       "    </tr>\n",
       "  </thead>\n",
       "  <tbody>\n",
       "    <tr>\n",
       "      <th>0</th>\n",
       "      <td>g=+e; j=-d; d=-m; e=1; m=+g; a=-t; t=-o; w=+n;...</td>\n",
       "      <td>e=1;g=1;m=1;d=-1;j=1;c=-1;q=-1;o=1;t=-1;a=1;n=...</td>\n",
       "      <td>g=1;j=1;d=-1;e=1;m=1;a=1;t=-1;w=-1;c=-1;o=1;n=...</td>\n",
       "      <td>g=1;j=1;d=-1;e=1;m=1;a=1;t=-1;w=-1;c=-1;o=1;n=...</td>\n",
       "    </tr>\n",
       "    <tr>\n",
       "      <th>1</th>\n",
       "      <td>q=+g; p=-n; w=+i; h=-k; o=+p; i=-y; k=-1; g=+o...</td>\n",
       "      <td>k=-1;h=1;y=-1;i=1;w=1;n=1;p=-1;o=-1;g=-1;q=-1;...</td>\n",
       "      <td>q=-1;p=-1;w=1;h=1;o=-1;i=1;k=-1;g=-1;a=1;c=-1;...</td>\n",
       "      <td>q=-1;p=-1;w=1;h=1;o=-1;i=1;k=-1;g=-1;a=1;c=-1;...</td>\n",
       "    </tr>\n",
       "    <tr>\n",
       "      <th>2</th>\n",
       "      <td>y=+j; e=-l; g=-q; q=-x; x=-h; l=-y; j=+i; h=+n...</td>\n",
       "      <td>n=-1;h=-1;x=1;q=-1;g=1;b=-1;t=1;i=-1;j=-1;y=-1...</td>\n",
       "      <td>y=-1;e=-1;g=1;q=-1;x=1;l=1;j=-1;h=-1;t=1;n=-1;...</td>\n",
       "      <td>y=-1;e=-1;g=1;q=-1;x=1;l=1;j=-1;h=-1;t=1;n=-1;...</td>\n",
       "    </tr>\n",
       "    <tr>\n",
       "      <th>3</th>\n",
       "      <td>u=-n; g=-w; w=+z; r=+l; a=-g; n=+a; p=+c; l=+v...</td>\n",
       "      <td>v=-1;l=-1;r=-1;c=1;p=1;z=1;w=1;g=-1;a=1;n=1;u=...</td>\n",
       "      <td>u=-1;g=-1;w=1;r=-1;a=1;n=1;p=1;l=-1;v=-1;z=1;c...</td>\n",
       "      <td>u=-1;g=-1;w=1;r=-1;a=1;n=1;p=1;l=-1;v=-1;z=1;c...</td>\n",
       "    </tr>\n",
       "    <tr>\n",
       "      <th>4</th>\n",
       "      <td>o=+h; s=+a; v=+b; c=-w; b=-1; e=-o; a=+v; f=+i...</td>\n",
       "      <td>b=-1;v=-1;a=-1;s=-1;i=1;f=1;z=1;w=-1;c=1;h=-1;...</td>\n",
       "      <td>o=-1;s=-1;v=-1;c=1;b=-1;e=1;a=-1;f=1;i=1;h=-1;...</td>\n",
       "      <td>o=-1;s=-1;v=-1;c=1;b=-1;e=1;a=-1;f=1;i=1;h=-1;...</td>\n",
       "    </tr>\n",
       "  </tbody>\n",
       "</table>\n",
       "</div>"
      ],
      "text/plain": [
       "                                               input  \\\n",
       "0  g=+e; j=-d; d=-m; e=1; m=+g; a=-t; t=-o; w=+n;...   \n",
       "1  q=+g; p=-n; w=+i; h=-k; o=+p; i=-y; k=-1; g=+o...   \n",
       "2  y=+j; e=-l; g=-q; q=-x; x=-h; l=-y; j=+i; h=+n...   \n",
       "3  u=-n; g=-w; w=+z; r=+l; a=-g; n=+a; p=+c; l=+v...   \n",
       "4  o=+h; s=+a; v=+b; c=-w; b=-1; e=-o; a=+v; f=+i...   \n",
       "\n",
       "                             resolution-order-labels  \\\n",
       "0  e=1;g=1;m=1;d=-1;j=1;c=-1;q=-1;o=1;t=-1;a=1;n=...   \n",
       "1  k=-1;h=1;y=-1;i=1;w=1;n=1;p=-1;o=-1;g=-1;q=-1;...   \n",
       "2  n=-1;h=-1;x=1;q=-1;g=1;b=-1;t=1;i=-1;j=-1;y=-1...   \n",
       "3  v=-1;l=-1;r=-1;c=1;p=1;z=1;w=1;g=-1;a=1;n=1;u=...   \n",
       "4  b=-1;v=-1;a=-1;s=-1;i=1;f=1;z=1;w=-1;c=1;h=-1;...   \n",
       "\n",
       "                                  input-order-labels  \\\n",
       "0  g=1;j=1;d=-1;e=1;m=1;a=1;t=-1;w=-1;c=-1;o=1;n=...   \n",
       "1  q=-1;p=-1;w=1;h=1;o=-1;i=1;k=-1;g=-1;a=1;c=-1;...   \n",
       "2  y=-1;e=-1;g=1;q=-1;x=1;l=1;j=-1;h=-1;t=1;n=-1;...   \n",
       "3  u=-1;g=-1;w=1;r=-1;a=1;n=1;p=1;l=-1;v=-1;z=1;c...   \n",
       "4  o=-1;s=-1;v=-1;c=1;b=-1;e=1;a=-1;f=1;i=1;h=-1;...   \n",
       "\n",
       "                                     labels-with-aux  \n",
       "0  g=1;j=1;d=-1;e=1;m=1;a=1;t=-1;w=-1;c=-1;o=1;n=...  \n",
       "1  q=-1;p=-1;w=1;h=1;o=-1;i=1;k=-1;g=-1;a=1;c=-1;...  \n",
       "2  y=-1;e=-1;g=1;q=-1;x=1;l=1;j=-1;h=-1;t=1;n=-1;...  \n",
       "3  u=-1;g=-1;w=1;r=-1;a=1;n=1;p=1;l=-1;v=-1;z=1;c...  \n",
       "4  o=-1;s=-1;v=-1;c=1;b=-1;e=1;a=-1;f=1;i=1;h=-1;...  "
      ]
     },
     "execution_count": 11,
     "metadata": {},
     "output_type": "execute_result"
    }
   ],
   "source": [
    "ood_test_df.head()"
   ]
  },
  {
   "cell_type": "code",
   "execution_count": 12,
   "metadata": {},
   "outputs": [
    {
     "data": {
      "text/plain": [
       "(6800, 1700, 500)"
      ]
     },
     "execution_count": 12,
     "metadata": {},
     "output_type": "execute_result"
    }
   ],
   "source": [
    "train_df.shape[0], test_df.shape[0], ood_test_df.shape[0]"
   ]
  },
  {
   "cell_type": "code",
   "execution_count": 14,
   "metadata": {},
   "outputs": [
    {
     "data": {
      "text/plain": [
       "'g=+e; j=-d; d=-m; e=1; m=+g; a=-t; t=-o; w=+n; c=-j; o=-q; n=-a; q=+c'"
      ]
     },
     "execution_count": 14,
     "metadata": {},
     "output_type": "execute_result"
    }
   ],
   "source": [
    "ood_test_df.iloc[0, :]['input']"
   ]
  },
  {
   "cell_type": "code",
   "execution_count": 15,
   "metadata": {},
   "outputs": [
    {
     "data": {
      "text/plain": [
       "'e=1;g=1;m=1;d=-1;j=1;c=-1;q=-1;o=1;t=-1;a=1;n=-1;w=-1'"
      ]
     },
     "execution_count": 15,
     "metadata": {},
     "output_type": "execute_result"
    }
   ],
   "source": [
    "ood_test_df.iloc[0, :]['resolution-order-labels']"
   ]
  }
 ],
 "metadata": {
  "kernelspec": {
   "display_name": "Python 3",
   "language": "python",
   "name": "python3"
  },
  "language_info": {
   "codemirror_mode": {
    "name": "ipython",
    "version": 3
   },
   "file_extension": ".py",
   "mimetype": "text/x-python",
   "name": "python",
   "nbconvert_exporter": "python",
   "pygments_lexer": "ipython3",
   "version": "3.7.13"
  }
 },
 "nbformat": 4,
 "nbformat_minor": 5
}
